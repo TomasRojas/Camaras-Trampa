{
 "cells": [
  {
   "cell_type": "code",
   "execution_count": 22,
   "metadata": {
    "collapsed": true,
    "pycharm": {
     "name": "#%%\n"
    }
   },
   "outputs": [],
   "source": [
    "import matplotlib.pyplot as plt\n",
    "import numpy as np\n",
    "import os\n",
    "import PIL\n"
   ]
  },
  {
   "cell_type": "code",
   "execution_count": 24,
   "outputs": [],
   "source": [
    "from pathlib import Path\n",
    "import shutil\n",
    "\n",
    "directory = 'selected/perro'\n"
   ],
   "metadata": {
    "collapsed": false,
    "pycharm": {
     "name": "#%%\n"
    }
   }
  },
  {
   "cell_type": "code",
   "execution_count": 26,
   "outputs": [
    {
     "name": "stdout",
     "output_type": "stream",
     "text": [
      "100\n",
      "Valid image\n",
      "200\n",
      "Valid image\n",
      "300\n",
      "Valid image\n",
      "400\n",
      "Valid image\n",
      "500\n",
      "Valid image\n",
      "600\n",
      "Valid image\n",
      "700\n",
      "Valid image\n",
      "800\n",
      "Valid image\n",
      "900\n",
      "Valid image\n",
      "1000\n",
      "Valid image\n",
      "1100\n",
      "Valid image\n",
      "1200\n",
      "Valid image\n",
      "1300\n",
      "Valid image\n",
      "1400\n",
      "Valid image\n",
      "1500\n",
      "Valid image\n",
      "1600\n",
      "Valid image\n",
      "1700\n",
      "Valid image\n",
      "1800\n",
      "Valid image\n",
      "1900\n",
      "Valid image\n",
      "2000\n",
      "Valid image\n",
      "2100\n",
      "Valid image\n",
      "2200\n",
      "Valid image\n",
      "2300\n",
      "Valid image\n",
      "2400\n",
      "Valid image\n",
      "2500\n",
      "Valid image\n",
      "2600\n",
      "Valid image\n",
      "2700\n",
      "Valid image\n",
      "finished\n"
     ]
    }
   ],
   "source": [
    "from PIL import Image\n",
    "import glob\n",
    "\n",
    "count = 0\n",
    "\n",
    "# root_dir needs a trailing slash (i.e. /root/dir/)\n",
    "for filename in glob.iglob(directory + '**/*.jpg', recursive=True):\n",
    "    count = count + 1\n",
    "    try:\n",
    "        Image.open(filename).load()\n",
    "        if (count%100)==0:\n",
    "            print(count)\n",
    "            print('Valid image')\n",
    "    except Exception as e:\n",
    "        filepath = Path(filename)\n",
    "        os.remove(filename)\n",
    "        print('Invalid image')\n",
    "\n",
    "print('finished')"
   ],
   "metadata": {
    "collapsed": false,
    "pycharm": {
     "name": "#%%\n"
    }
   }
  },
  {
   "cell_type": "code",
   "execution_count": null,
   "outputs": [],
   "source": [],
   "metadata": {
    "collapsed": false,
    "pycharm": {
     "name": "#%%\n"
    }
   }
  }
 ],
 "metadata": {
  "kernelspec": {
   "display_name": "Python 3",
   "language": "python",
   "name": "python3"
  },
  "language_info": {
   "codemirror_mode": {
    "name": "ipython",
    "version": 2
   },
   "file_extension": ".py",
   "mimetype": "text/x-python",
   "name": "python",
   "nbconvert_exporter": "python",
   "pygments_lexer": "ipython2",
   "version": "2.7.6"
  }
 },
 "nbformat": 4,
 "nbformat_minor": 0
}